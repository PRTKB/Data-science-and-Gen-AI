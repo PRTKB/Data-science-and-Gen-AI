{
 "cells": [
  {
   "cell_type": "code",
   "execution_count": 1,
   "metadata": {},
   "outputs": [
    {
     "name": "stdout",
     "output_type": "stream",
     "text": [
      "prtk\n"
     ]
    }
   ],
   "source": [
    "name=\"prtk\"\n",
    "print(name)"
   ]
  },
  {
   "cell_type": "markdown",
   "metadata": {},
   "source": [
    "Comparsion operator"
   ]
  },
  {
   "cell_type": "code",
   "execution_count": 7,
   "metadata": {},
   "outputs": [
    {
     "name": "stdout",
     "output_type": "stream",
     "text": [
      "True\n",
      "False\n",
      "False\n",
      "True\n",
      "False\n",
      "True\n"
     ]
    }
   ],
   "source": [
    "a=50\n",
    "b=100\n",
    "print(a!=b)\n",
    "print(a==b)\n",
    "print(a>b)\n",
    "print(a<b)\n",
    "print(a>=b)\n",
    "print(a<=b)\n"
   ]
  },
  {
   "cell_type": "markdown",
   "metadata": {},
   "source": [
    "Gates operation\n"
   ]
  },
  {
   "cell_type": "code",
   "execution_count": 12,
   "metadata": {},
   "outputs": [
    {
     "name": "stdout",
     "output_type": "stream",
     "text": [
      "False\n",
      "True\n",
      "False\n"
     ]
    }
   ],
   "source": [
    "a=2\n",
    "b=3\n",
    "c=10\n",
    "d=20\n",
    "\n",
    "print(((a>b) and (c<d)))\n",
    "print(((a>b) or (c<d)))\n",
    "print((not(c<d)))\n"
   ]
  },
  {
   "cell_type": "code",
   "execution_count": 18,
   "metadata": {},
   "outputs": [
    {
     "name": "stdout",
     "output_type": "stream",
     "text": [
      "Hi my name is KGF\n",
      "-1\n"
     ]
    }
   ],
   "source": [
    "name=\"kuku\"\n",
    "a=4\n",
    "b=5\n",
    "if name==\"prtk\":\n",
    "    print(\"Hi my name is prtk and we are adding two number\")\n",
    "    print(a+b)\n",
    "else:\n",
    "    print(\"Hi my name is KGF\")\n",
    "    print(a-b)"
   ]
  },
  {
   "cell_type": "code",
   "execution_count": 21,
   "metadata": {},
   "outputs": [
    {
     "name": "stdout",
     "output_type": "stream",
     "text": [
      "we are dividng two number\n",
      "5.0\n"
     ]
    }
   ],
   "source": [
    "opreation=\"multiply\"\n",
    "a=10\n",
    "b=2\n",
    "if opreation==\"add\":\n",
    "    print(\"we sre adding two number\")\n",
    "elif opreation==\"subtract\":\n",
    "    print(\"we are subtracting two number\")\n",
    "else:\n",
    "    opreation==\"divide\"\n",
    "    print(\"we are dividng two number\")\n",
    "    print(a/b)\n"
   ]
  },
  {
   "cell_type": "code",
   "execution_count": 24,
   "metadata": {},
   "outputs": [
    {
     "name": "stdout",
     "output_type": "stream",
     "text": [
      "3\n"
     ]
    }
   ],
   "source": [
    "operation=\"multiply\"\n",
    "\n",
    "if operation==\"add\":\n",
    "    print(1)\n",
    "if operation==\"subtract\":\n",
    "    print(2)\n",
    "if operation==\"multiply\":\n",
    "    print(3)"
   ]
  },
  {
   "cell_type": "code",
   "execution_count": 28,
   "metadata": {},
   "outputs": [
    {
     "name": "stdout",
     "output_type": "stream",
     "text": [
      "100\n"
     ]
    }
   ],
   "source": [
    "a=input(\"please enter the value\")\n",
    "print(a)"
   ]
  }
 ],
 "metadata": {
  "kernelspec": {
   "display_name": "Python 3",
   "language": "python",
   "name": "python3"
  },
  "language_info": {
   "codemirror_mode": {
    "name": "ipython",
    "version": 3
   },
   "file_extension": ".py",
   "mimetype": "text/x-python",
   "name": "python",
   "nbconvert_exporter": "python",
   "pygments_lexer": "ipython3",
   "version": "3.12.1"
  }
 },
 "nbformat": 4,
 "nbformat_minor": 2
}
